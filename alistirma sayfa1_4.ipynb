{
 "cells": [
  {
   "cell_type": "code",
   "execution_count": 56,
   "metadata": {},
   "outputs": [
    {
     "name": "stdout",
     "output_type": "stream",
     "text": [
      "kelime giriniz: ulyylu\n",
      "kelimeniz palindromdur\n"
     ]
    }
   ],
   "source": [
    "#kullanıcıdan alınan stringi palindrom olup olmadıgını test eden program\n",
    "a = input(\"kelime giriniz: \")\n",
    "if a == a[::-1] :\n",
    "    print(\"kelimeniz palindromdur\")\n",
    "else :\n",
    "    print(\"kelimeniz palindrom degil\")"
   ]
  },
  {
   "cell_type": "code",
   "execution_count": null,
   "metadata": {},
   "outputs": [],
   "source": []
  }
 ],
 "metadata": {
  "kernelspec": {
   "display_name": "Python 3",
   "language": "python",
   "name": "python3"
  },
  "language_info": {
   "codemirror_mode": {
    "name": "ipython",
    "version": 3
   },
   "file_extension": ".py",
   "mimetype": "text/x-python",
   "name": "python",
   "nbconvert_exporter": "python",
   "pygments_lexer": "ipython3",
   "version": "3.7.3"
  }
 },
 "nbformat": 4,
 "nbformat_minor": 2
}
